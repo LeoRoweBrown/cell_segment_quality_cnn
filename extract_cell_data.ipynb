{
 "cells": [
  {
   "cell_type": "code",
   "execution_count": null,
   "metadata": {},
   "outputs": [],
   "source": [
    "from extract_cell_data import *\n",
    "import napari\n",
    "import matplotlib.pyplot as plt"
   ]
  },
  {
   "cell_type": "code",
   "execution_count": null,
   "metadata": {},
   "outputs": [],
   "source": [
    "save_dir = \"G:/Data/IBIN_Nina/workspace/cnn_model/data/\"\n",
    "save_plot_dir = \"G:/Data/IBIN_Nina/workspace/cnn_model/data_plots2/\"\n",
    "\n",
    "channel = 'exc561_filter605'\n",
    "data_dir = \"G:/Data/IBIN_Nina/temp/20230331_drug_plate3/main/\"\n",
    "run_dirs = search_for_runs(data_dir)\n",
    "mask_dir = \"G:/Data/IBIN_Nina/workspace/trained_masks_drugplate3/all_runs_vols_cellpose_reslice_150epoch\"\n",
    "# mask_run_dirs = glob(f'{mask_dir}/run_*')\n",
    "mask_run_dirs = search_for_mask_runs(mask_dir)  # gets the order right\n",
    "run_sub_dirs = [os.path.basename(run_dir) for run_dir in mask_run_dirs]\n",
    "mask_field_files = glob(f'{mask_run_dirs[0]}/field*')  # assumes same fields in every run folder!\n",
    "run_nums = [int(re.findall('run_([0-9]+)', s)[0]) for s in run_sub_dirs]\n",
    "field_nums = [int(re.findall('field([0-9]+)*', s)[0]) for s in mask_field_files]\n",
    "mask_field_files\n",
    "\n",
    "all_fields = False\n",
    "all_runs = False\n",
    "\n",
    "runs_to_include = [1, 5, 11]\n",
    "fields_to_include = [1, 2, 150, 147]\n",
    "\n",
    "if all_fields:\n",
    "    fields_to_include = field_nums\n",
    "\n",
    "if all_runs:\n",
    "    runs_to_include = run_nums"
   ]
  },
  {
   "cell_type": "code",
   "execution_count": null,
   "metadata": {},
   "outputs": [],
   "source": [
    "\n",
    "print(f\"Extracting cells for runs {runs_to_include} and fields {fields_to_include}\")\n",
    "print(mask_run_dirs)\n",
    "for n in runs_to_include:\n",
    "    data_run_dir = run_dirs[n-1]\n",
    "    mask_run_dir = mask_run_dirs[n-1]\n",
    "    for f in fields_to_include:\n",
    "        mask_file = os.path.join(mask_run_dir, os.path.basename(mask_field_files[f-1]))\n",
    "        data_file = os.path.join(data_run_dir, f'field_{f:04d}', channel, '*.tif')\n",
    "        print(\"loading\", mask_file, \"and\", data_file)\n",
    "        mask = tiff.imread(mask_file)\n",
    "        data = tiff.imread(data_file)\n",
    "        # viewer=napari.Viewer(show=True)\n",
    "        # viewer.window._qt_window.show()  # Force window show\n",
    "        # viewer.add_image(data)\n",
    "        fig = plt.figure()\n",
    "        ax = fig.add_subplot(1,2,1)\n",
    "        ax.imshow(np.max(data, 0))\n",
    "        ax2 = fig.add_subplot(1,2,2)\n",
    "        ax2.imshow(np.max(mask, 0))\n",
    "        plt.show()\n",
    "        # viewer, image_layer = napari.imshow(data)\n",
    "        \n",
    "        # viewer.add_image(data)\n",
    "\n",
    "        mask_rois, data_rois, data_rois_masked = get_rois_fixed_roi(mask, data, (32, 32, 32), bg=98)\n",
    "        save_path = os.path.join(save_dir, f'run_{n:04d}_field_{f:04d}')\n",
    "        save_path_dir = os.path.join(save_plot_dir, f'run_{n:04d}_field_{f:04d}')\n",
    "        save_rois(save_path, mask_rois, data_rois, data_rois_masked)\n",
    "        save_plots(save_path_dir, mask_rois, data_rois, data_rois_masked, vmax=None)\n",
    "\n",
    "# napari.run()  # Starts the Qt event loop (blocks here)"
   ]
  },
  {
   "cell_type": "code",
   "execution_count": null,
   "metadata": {},
   "outputs": [],
   "source": []
  }
 ],
 "metadata": {
  "kernelspec": {
   "display_name": "ibin_2025",
   "language": "python",
   "name": "python3"
  },
  "language_info": {
   "codemirror_mode": {
    "name": "ipython",
    "version": 3
   },
   "file_extension": ".py",
   "mimetype": "text/x-python",
   "name": "python",
   "nbconvert_exporter": "python",
   "pygments_lexer": "ipython3",
   "version": "3.13.5"
  }
 },
 "nbformat": 4,
 "nbformat_minor": 2
}
