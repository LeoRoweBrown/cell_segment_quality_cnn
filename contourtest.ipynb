{
 "cells": [
  {
   "cell_type": "code",
   "execution_count": null,
   "metadata": {},
   "outputs": [],
   "source": [
    "import cv2\n",
    "from cv2 import findContours\n",
    "import numpy as np"
   ]
  },
  {
   "cell_type": "code",
   "execution_count": 7,
   "metadata": {},
   "outputs": [
    {
     "ename": "NameError",
     "evalue": "name 'cv2' is not defined",
     "output_type": "error",
     "traceback": [
      "\u001b[31m---------------------------------------------------------------------------\u001b[39m",
      "\u001b[31mNameError\u001b[39m                                 Traceback (most recent call last)",
      "\u001b[36mCell\u001b[39m\u001b[36m \u001b[39m\u001b[32mIn[7]\u001b[39m\u001b[32m, line 4\u001b[39m\n\u001b[32m      1\u001b[39m m = np.zeros((\u001b[32m50\u001b[39m,\u001b[32m50\u001b[39m))\n\u001b[32m      2\u001b[39m m[\u001b[32m20\u001b[39m:\u001b[32m30\u001b[39m, \u001b[32m25\u001b[39m:\u001b[32m35\u001b[39m] = \u001b[32m1\u001b[39m\n\u001b[32m----> \u001b[39m\u001b[32m4\u001b[39m c = findContours(m, \u001b[43mcv2\u001b[49m.RETR_TREE, cv2.CHAIN_APPROX_SIMPLE)\n",
      "\u001b[31mNameError\u001b[39m: name 'cv2' is not defined"
     ]
    }
   ],
   "source": [
    "m = np.zeros((50,50))\n",
    "m[20:30, 25:35] = 1\n",
    "\n",
    "c = findContours(m, cv2.RETR_TREE, cv2.CHAIN_APPROX_SIMPLE)"
   ]
  }
 ],
 "metadata": {
  "kernelspec": {
   "display_name": "ibin_2025",
   "language": "python",
   "name": "python3"
  },
  "language_info": {
   "codemirror_mode": {
    "name": "ipython",
    "version": 3
   },
   "file_extension": ".py",
   "mimetype": "text/x-python",
   "name": "python",
   "nbconvert_exporter": "python",
   "pygments_lexer": "ipython3",
   "version": "3.13.5"
  }
 },
 "nbformat": 4,
 "nbformat_minor": 2
}
